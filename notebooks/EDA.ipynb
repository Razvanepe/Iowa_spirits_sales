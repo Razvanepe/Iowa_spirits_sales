{
 "cells": [
  {
   "cell_type": "markdown",
   "metadata": {},
   "source": [
    "# Data Driven Business Strategies using Iowa Spirits Sales"
   ]
  },
  {
   "cell_type": "markdown",
   "metadata": {},
   "source": [
    "# Exploratory Data Analysis"
   ]
  },
  {
   "cell_type": "markdown",
   "metadata": {},
   "source": [
    "### Identified Business Problems"
   ]
  },
  {
   "cell_type": "markdown",
   "metadata": {},
   "source": [
    "As presented in the previous notebook and in the Project proposal, we are using a large dataset to help stakeholders make data-driven business decisions. We identified a few avenues for explorations. \n",
    "\n",
    "In this EDA notebook, apart from our general Exploratory FEature Analysis(univariate, bivariate, multivariate) we will also answer 2 Business Problems:\n",
    "\n",
    "1. We will conduct Exploratory Data Analysis on what was **the impact of Covid-19 on the Alcoholic Beverages Industry**. We will take into consideration the demographic trans and Income per capita, but we will also make our recommendations and analysis considering the “regression to the mean” statistical principle.\n",
    "\n",
    "2. We will also conduct **Storage Capacity** exploratory analysis with the purpose of predicting how the storage needs will change within one year from the current date.\n",
    "\n",
    "Later, in our next Notebook we will approach another Business problems that concerns the Alcoholic Beverages Division of Iowa:\n",
    "\n",
    "3. Cohort Analysis and **Customer Segmentation using RFM(Recency, Frequency and Monetary value) and Unsupervised Learning** in oru Pre-Processing section.\n",
    "\n",
    "Finally, in our Modeling Part, we will focus on driving Business Insight to help a hypothetical liquor store owner make strategic decisions:\n",
    "\n",
    "4. We want to assist him in **expanding to new locations** throughout the state.\n",
    "5. Lastly, we want to use existing data for a **time series analysis and predictions to forecast sales for next month**."
   ]
  },
  {
   "cell_type": "markdown",
   "metadata": {},
   "source": [
    "### EDA setup"
   ]
  },
  {
   "cell_type": "markdown",
   "metadata": {},
   "source": [
    "In the Data Wrangling part of this project we used our initial data and because of the large size we divided our initial data in several subset. Each of them to be used for specific Business problems. These are the datasets created:\n",
    "* pandemicEDA\n",
    "* storageEDA\n",
    "* cust_segmentation\n",
    "* pick_new_location\n",
    "* predict_sales\n",
    "* df - this is the original data, cleaned of missing data, ouliers and checked for consistency"
   ]
  },
  {
   "cell_type": "markdown",
   "metadata": {},
   "source": [
    "We have this plan to conduct EDA:\n",
    "\n",
    "   1. conduct Analysis of how Covid-19 impacted the Spirits Industry in Iowa\n",
    "   2. conduct Analysis on volume of alcoholic beverages sold within difeerent time periods: weekly, monthly and on a three months period to identify storage needs and trends.\n",
    "   3. Conduct univariate EDA on our data\n",
    "   4. Conduct bivariate EDA on variables with our target feature\n",
    "   5. Multivariate EDA"
   ]
  },
  {
   "cell_type": "code",
   "execution_count": null,
   "metadata": {},
   "outputs": [],
   "source": []
  }
 ],
 "metadata": {
  "kernelspec": {
   "display_name": "Python 3",
   "language": "python",
   "name": "python3"
  },
  "language_info": {
   "codemirror_mode": {
    "name": "ipython",
    "version": 3
   },
   "file_extension": ".py",
   "mimetype": "text/x-python",
   "name": "python",
   "nbconvert_exporter": "python",
   "pygments_lexer": "ipython3",
   "version": "3.8.5"
  }
 },
 "nbformat": 4,
 "nbformat_minor": 4
}
